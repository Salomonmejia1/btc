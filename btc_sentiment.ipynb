{
 "cells": [
  {
   "attachments": {},
   "cell_type": "markdown",
   "metadata": {},
   "source": [
    "Sentiments analysis\n"
   ]
  },
  {
   "cell_type": "code",
   "execution_count": null,
   "metadata": {},
   "outputs": [],
   "source": [
    "import mwclient #mlibreria para consultar en wikipedia\n",
    "import time\n",
    "import tensorflow\n",
    "\n",
    "site = mwclient.Site(\"en.wikipedia.org\") # inicia la clase ce mwcliente en wiki \n",
    "\n",
    "page = site.pages[\"Bitcoin\"] # va a una pagian de wiki "
   ]
  },
  {
   "cell_type": "code",
   "execution_count": null,
   "metadata": {},
   "outputs": [],
   "source": [
    "revs = list(page.revisions()) # da una lista de las comentarios de btc "
   ]
  },
  {
   "cell_type": "code",
   "execution_count": null,
   "metadata": {},
   "outputs": [],
   "source": [
    "revs = sorted(revs, key = lambda rev: rev[\"timestamp\"])  # organiza la lista del primer al ultimo comentario"
   ]
  },
  {
   "cell_type": "code",
   "execution_count": null,
   "metadata": {},
   "outputs": [],
   "source": [
    "revs[0]"
   ]
  },
  {
   "attachments": {},
   "cell_type": "markdown",
   "metadata": {},
   "source": [
    "finding trge sentiments page "
   ]
  },
  {
   "cell_type": "code",
   "execution_count": null,
   "metadata": {},
   "outputs": [],
   "source": [
    "from transformers import pipeline\n",
    "sentiment_pipeline = pipeline(\"sentiment-analysis\")\n",
    "\n",
    "def find_sentiment(text: str)-> list: #el tipo de 'sentimiento' del texto\n",
    "    sent = sentiment_pipeline([text[:250]])[0] #genera una lista de diccionarios\n",
    "    score = sent[\"score\"] #puntaje del \"sentimiento 1 para posi -1 neg\"\n",
    "    if sent [\"label\"] ==\"NEGATIVE\": \n",
    "        score *=-1\n",
    "    return score"
   ]
  },
  {
   "attachments": {},
   "cell_type": "markdown",
   "metadata": {},
   "source": [
    "Average of the sentiment per day "
   ]
  },
  {
   "cell_type": "code",
   "execution_count": null,
   "metadata": {},
   "outputs": [],
   "source": [
    "edits = {}\n",
    "\n",
    "for rev in revs: \n",
    "    date = time.strftime(\"%Y-%m-%d\", rev[\"timestamp\"])\n",
    "\n",
    "    if date not in edits:\n",
    "        edits[date] = dict(sentiments = list(), edit_count = 0)\n",
    "    \n",
    "    edits[date]['edit_count'] +=1\n",
    "\n",
    "    coment = rev[\"comment\"]\n",
    "    edits[date]['sentiments'].append(find_sentiment(coment))"
   ]
  },
  {
   "cell_type": "code",
   "execution_count": null,
   "metadata": {},
   "outputs": [],
   "source": [
    "print(len(edits))"
   ]
  },
  {
   "cell_type": "code",
   "execution_count": null,
   "metadata": {},
   "outputs": [],
   "source": [
    "from statistics import mean\n",
    "\n",
    "for key in edits:\n",
    "    if len(edits[key][\"sentiments\"])>0:\n",
    "        edits[key][\"sentiment\"]= mean(edits[key][\"sentiments\"])\n",
    "        new_edits = []\n",
    "        #for s in edits[key][\"sentiments\"]: \n",
    "        #    if s < 0: \n",
    "        #        new_edits. append(edits[key][\"sentiments\"])\n",
    "        #edits[key][\"neg_sentiment\"]= len(new_edits)/ len/ len(edits[key][\"sentiments\"])\n",
    "        edits[key][\"neg_sentiment\"] = len( [s for s in edits[key][\"sentiments\"] if s < 0]) / len(edits[key][\"sentiments\"])\n",
    "    else: \n",
    "        edits[key][\"sentiment\"] = 0 \n",
    "        edits[key][\"sentiments\"] = 0 \n",
    "    del edits[key][\"sentiments\"] # \n"
   ]
  },
  {
   "cell_type": "code",
   "execution_count": null,
   "metadata": {},
   "outputs": [],
   "source": [
    "#Pandas data frame \n",
    "\n",
    "import pandas as pd \n",
    "edits_df = pd.DataFrame.from_dict(edits, orient= \"index\")"
   ]
  },
  {
   "cell_type": "code",
   "execution_count": null,
   "metadata": {},
   "outputs": [],
   "source": [
    "edits_df.index = pd.to_datetime(edits_df.index) # convierte la primera columna (str) en fechas (datatime)"
   ]
  },
  {
   "cell_type": "code",
   "execution_count": null,
   "metadata": {},
   "outputs": [],
   "source": [
    "#filling the gaps in comentaries\n",
    "from datetime import datetime \n",
    "\n",
    "dates = pd.date_range(start = \"2009-03-08\", end = datetime.today())"
   ]
  },
  {
   "cell_type": "code",
   "execution_count": null,
   "metadata": {},
   "outputs": [],
   "source": [
    "edits_df = edits_df.reindex(dates, fill_value=0) # for dates when we have not comments "
   ]
  },
  {
   "cell_type": "code",
   "execution_count": null,
   "metadata": {},
   "outputs": [],
   "source": [
    "rolling_edits = edits_df.rolling(30).mean() # encuentra el promedio de cada 30 datos\n",
    "rolling_edits = rolling_edits.drop()"
   ]
  },
  {
   "cell_type": "code",
   "execution_count": null,
   "metadata": {},
   "outputs": [],
   "source": [
    "rolling_edits.to_csv (\"wikipedia_edits.csv\")"
   ]
  }
 ],
 "metadata": {
  "kernelspec": {
   "display_name": "Python 3.10.9 64-bit (microsoft store)",
   "language": "python",
   "name": "python3"
  },
  "language_info": {
   "codemirror_mode": {
    "name": "ipython",
    "version": 3
   },
   "file_extension": ".py",
   "mimetype": "text/x-python",
   "name": "python",
   "nbconvert_exporter": "python",
   "pygments_lexer": "ipython3",
   "version": "3.10.9 (tags/v3.10.9:1dd9be6, Dec  6 2022, 20:01:21) [MSC v.1934 64 bit (AMD64)]"
  },
  "orig_nbformat": 4,
  "vscode": {
   "interpreter": {
    "hash": "5cebf308027f7953a21184b243159006adfe6571e79b487d650a04ee75a627ba"
   }
  }
 },
 "nbformat": 4,
 "nbformat_minor": 2
}
