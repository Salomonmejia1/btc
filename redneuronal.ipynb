{
 "cells": [
  {
   "attachments": {},
   "cell_type": "markdown",
   "metadata": {},
   "source": [
    "Red neuronal"
   ]
  },
  {
   "cell_type": "code",
   "execution_count": 12,
   "metadata": {},
   "outputs": [],
   "source": [
    "import yfinance as yf\n",
    "import tensorflow as tf\n",
    "import numpy as np\n",
    "import pandas as pd\n",
    "from datetime import datetime, timezone"
   ]
  },
  {
   "cell_type": "code",
   "execution_count": 38,
   "metadata": {},
   "outputs": [],
   "source": [
    "btc_ticker = yf.Ticker(\"BTC-USD\")"
   ]
  },
  {
   "cell_type": "code",
   "execution_count": 39,
   "metadata": {},
   "outputs": [],
   "source": [
    "btc = btc_ticker.history(period = \"max\")"
   ]
  },
  {
   "cell_type": "code",
   "execution_count": 40,
   "metadata": {},
   "outputs": [],
   "source": [
    "btc.columns = [c.lower() for c in btc.columns]"
   ]
  },
  {
   "cell_type": "code",
   "execution_count": 41,
   "metadata": {},
   "outputs": [],
   "source": [
    "btc.index = pd.to_datetime(btc.index)"
   ]
  },
  {
   "cell_type": "code",
   "execution_count": 42,
   "metadata": {},
   "outputs": [],
   "source": [
    "btc = btc.reset_index(inplace=False)"
   ]
  },
  {
   "cell_type": "code",
   "execution_count": 43,
   "metadata": {},
   "outputs": [],
   "source": [
    "def remove_timezone(dt): \n",
    "    return dt.replace(tzinfo=None)\n",
    "\n",
    "btc[\"Date\"] = btc[\"Date\"].apply(remove_timezone)"
   ]
  },
  {
   "cell_type": "code",
   "execution_count": 48,
   "metadata": {},
   "outputs": [],
   "source": [
    "open = btc[\"open\"]\n",
    "close = btc[\"close\"]"
   ]
  },
  {
   "cell_type": "code",
   "execution_count": 54,
   "metadata": {},
   "outputs": [
    {
     "data": {
      "text/plain": [
       "0         465.864014\n",
       "1         456.859985\n",
       "2         424.102997\n",
       "3         394.673004\n",
       "4         408.084991\n",
       "            ...     \n",
       "3033    16836.472656\n",
       "3034    16952.117188\n",
       "3035    16954.146484\n",
       "3036    17093.992188\n",
       "3037    17203.873047\n",
       "Name: open, Length: 3038, dtype: float64"
      ]
     },
     "execution_count": 54,
     "metadata": {},
     "output_type": "execute_result"
    }
   ],
   "source": [
    "open"
   ]
  },
  {
   "cell_type": "code",
   "execution_count": 57,
   "metadata": {},
   "outputs": [],
   "source": [
    "# desing the neuronal network \n",
    "# making arrays \n",
    "\n",
    "#capa = tf.keras.layers.Dense(units=1, input_shape=[1])\n",
    "#modelo = tf.keras.Sequential([capa])\n",
    "\n",
    "oculta1 = tf.keras.layers.Dense(units=200, input_shape=[1])\n",
    "oculta2 = tf.keras.layers.Dense(units=200)\n",
    "salida = tf.keras.layers.Dense(units=1)\n",
    "modelo = tf.keras.Sequential([oculta1, oculta2, salida])\n"
   ]
  },
  {
   "cell_type": "code",
   "execution_count": 58,
   "metadata": {},
   "outputs": [],
   "source": [
    "modelo.compile(\n",
    "    optimizer=tf.keras.optimizers.Adam(0.1), \n",
    "    loss=\"mean_squared_error\"\n",
    ")"
   ]
  },
  {
   "cell_type": "code",
   "execution_count": 61,
   "metadata": {},
   "outputs": [
    {
     "name": "stdout",
     "output_type": "stream",
     "text": [
      "comenzando entrenamiento... \n",
      "Modelo entrenado\n"
     ]
    }
   ],
   "source": [
    "print(\"comenzando entrenamiento... \")\n",
    "lenght = 2000\n",
    "historial = modelo.fit(open[0:lenght], close[0:lenght], epochs=1000, verbose=False)\n",
    "print(\"Modelo entrenado\")"
   ]
  },
  {
   "cell_type": "code",
   "execution_count": 63,
   "metadata": {},
   "outputs": [
    {
     "data": {
      "text/plain": [
       "[<matplotlib.lines.Line2D at 0x249ac431a50>]"
      ]
     },
     "execution_count": 63,
     "metadata": {},
     "output_type": "execute_result"
    },
    {
     "data": {
      "image/png": "[encoded data removed]",
      "text/plain": [
       "<Figure size 640x480 with 1 Axes>"
      ]
     },
     "metadata": {},
     "output_type": "display_data"
    }
   ],
   "source": [
    "#losser funtion \n",
    "import matplotlib.pyplot as plt\n",
    "plt.xlabel(\"# Epoca\")\n",
    "plt.ylabel(\"Magnitud de perdida\")\n",
    "plt.plot(historial.history[\"loss\"]) \n",
    "\n"
   ]
  }
 ],
 "metadata": {
  "kernelspec": {
   "display_name": "Python 3",
   "language": "python",
   "name": "python3"
  },
  "language_info": {
   "codemirror_mode": {
    "name": "ipython",
    "version": 3
   },
   "file_extension": ".py",
   "mimetype": "text/x-python",
   "name": "python",
   "nbconvert_exporter": "python",
   "pygments_lexer": "ipython3",
   "version": "3.10.9 (tags/v3.10.9:1dd9be6, Dec  6 2022, 20:01:21) [MSC v.1934 64 bit (AMD64)]"
  },
  "orig_nbformat": 4,
  "vscode": {
   "interpreter": {
    "hash": "5cebf308027f7953a21184b243159006adfe6571e79b487d650a04ee75a627ba"
   }
  }
 },
 "nbformat": 4,
 "nbformat_minor": 2
}
